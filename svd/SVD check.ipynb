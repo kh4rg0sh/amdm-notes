{
 "cells": [
  {
   "cell_type": "markdown",
   "id": "0d5a895e",
   "metadata": {},
   "source": [
    "# Singular Value Decomposition"
   ]
  },
  {
   "cell_type": "code",
   "execution_count": 7,
   "id": "37838194-cf71-4c2e-b1aa-b4d6fda14d3e",
   "metadata": {},
   "outputs": [],
   "source": [
    "import numpy as np"
   ]
  },
  {
   "cell_type": "code",
   "execution_count": 11,
   "id": "f79a26f5-ce35-4430-9ade-fbb431a35362",
   "metadata": {},
   "outputs": [
    {
     "data": {
      "text/plain": [
       "array([[2, 1],\n",
       "       [1, 2]])"
      ]
     },
     "execution_count": 11,
     "metadata": {},
     "output_type": "execute_result"
    }
   ],
   "source": [
    "A = np.array([[2,1],[1,2]])\n",
    "A"
   ]
  },
  {
   "cell_type": "code",
   "execution_count": 8,
   "id": "fb9a77ae-6fcf-4861-83a5-cdf55de15873",
   "metadata": {},
   "outputs": [
    {
     "data": {
      "text/plain": [
       "array([3., 1.])"
      ]
     },
     "execution_count": 8,
     "metadata": {},
     "output_type": "execute_result"
    }
   ],
   "source": [
    "eval3, evec3 = np.linalg.eig(A)\n",
    "np.round(eval3,2)"
   ]
  },
  {
   "cell_type": "code",
   "execution_count": 9,
   "id": "368669d0-2275-40a8-81af-716fd96b61f1",
   "metadata": {},
   "outputs": [
    {
     "data": {
      "text/plain": [
       "array([[ 0.70710678, -0.70710678],\n",
       "       [ 0.70710678,  0.70710678]])"
      ]
     },
     "execution_count": 9,
     "metadata": {},
     "output_type": "execute_result"
    }
   ],
   "source": [
    "evec3"
   ]
  },
  {
   "cell_type": "code",
   "execution_count": 12,
   "id": "b65a68a8",
   "metadata": {},
   "outputs": [
    {
     "data": {
      "text/plain": [
       "array([[2, 3, 4],\n",
       "       [1, 5, 0]])"
      ]
     },
     "execution_count": 12,
     "metadata": {},
     "output_type": "execute_result"
    }
   ],
   "source": [
    "B = np.array([[2,3,4],[1,5,0]])\n",
    "B"
   ]
  },
  {
   "cell_type": "code",
   "execution_count": 27,
   "id": "ba2d724b",
   "metadata": {},
   "outputs": [
    {
     "data": {
      "text/plain": [
       "array([[2, 1],\n",
       "       [3, 5],\n",
       "       [4, 0]])"
      ]
     },
     "execution_count": 27,
     "metadata": {},
     "output_type": "execute_result"
    }
   ],
   "source": [
    "C = B.T\n",
    "C"
   ]
  },
  {
   "cell_type": "code",
   "execution_count": 28,
   "id": "8dddedcc",
   "metadata": {},
   "outputs": [
    {
     "data": {
      "text/plain": [
       "array([[29, 17],\n",
       "       [17, 26]])"
      ]
     },
     "execution_count": 28,
     "metadata": {},
     "output_type": "execute_result"
    }
   ],
   "source": [
    "bbt = B@C\n",
    "bbt"
   ]
  },
  {
   "cell_type": "code",
   "execution_count": 29,
   "id": "15e29733",
   "metadata": {},
   "outputs": [
    {
     "data": {
      "text/plain": [
       "array([[ 5, 11,  8],\n",
       "       [11, 34, 12],\n",
       "       [ 8, 12, 16]])"
      ]
     },
     "execution_count": 29,
     "metadata": {},
     "output_type": "execute_result"
    }
   ],
   "source": [
    "btb = C@B\n",
    "btb"
   ]
  },
  {
   "cell_type": "code",
   "execution_count": 33,
   "id": "b50e21dd",
   "metadata": {},
   "outputs": [
    {
     "data": {
      "text/plain": [
       "array([44.57, 10.43])"
      ]
     },
     "execution_count": 33,
     "metadata": {},
     "output_type": "execute_result"
    }
   ],
   "source": [
    "eval1, evec1 = np.linalg.eig(bbt)\n",
    "np.round(eval1,2)"
   ]
  },
  {
   "cell_type": "code",
   "execution_count": 34,
   "id": "9698ddf0",
   "metadata": {},
   "outputs": [
    {
     "data": {
      "text/plain": [
       "array([[ 0.73752756, -0.67531703],\n",
       "       [ 0.67531703,  0.73752756]])"
      ]
     },
     "execution_count": 34,
     "metadata": {},
     "output_type": "execute_result"
    }
   ],
   "source": [
    "evec1"
   ]
  },
  {
   "cell_type": "code",
   "execution_count": 35,
   "id": "205b1326",
   "metadata": {},
   "outputs": [
    {
     "data": {
      "text/plain": [
       "array([44.57,  0.  , 10.43])"
      ]
     },
     "execution_count": 35,
     "metadata": {},
     "output_type": "execute_result"
    }
   ],
   "source": [
    "eval2, evec2 = np.linalg.eig(btb)\n",
    "np.round(eval2,2)"
   ]
  },
  {
   "cell_type": "code",
   "execution_count": 36,
   "id": "3c7c3df9",
   "metadata": {},
   "outputs": [
    {
     "data": {
      "text/plain": [
       "array([[ 0.32211546,  0.92747779,  0.18980669],\n",
       "       [ 0.83723059, -0.18549556, -0.51442816],\n",
       "       [ 0.4419124 , -0.32461723,  0.83626377]])"
      ]
     },
     "execution_count": 36,
     "metadata": {},
     "output_type": "execute_result"
    }
   ],
   "source": [
    "evec2"
   ]
  },
  {
   "cell_type": "code",
   "execution_count": 11,
   "id": "f4502033",
   "metadata": {},
   "outputs": [
    {
     "data": {
      "text/plain": [
       "array([44.57,  0.  , 10.43])"
      ]
     },
     "execution_count": 11,
     "metadata": {},
     "output_type": "execute_result"
    }
   ],
   "source": [
    "np.round(eval2,decimals=2)"
   ]
  },
  {
   "cell_type": "code",
   "execution_count": 12,
   "id": "f30159da",
   "metadata": {},
   "outputs": [
    {
     "data": {
      "text/plain": [
       "array([[ 0.32211546, -0.18980669, -0.92747779],\n",
       "       [ 0.83723059,  0.51442816,  0.18549556],\n",
       "       [ 0.4419124 , -0.83626377,  0.32461723]])"
      ]
     },
     "execution_count": 12,
     "metadata": {},
     "output_type": "execute_result"
    }
   ],
   "source": [
    "evec2[:,[1,2]]=-evec2[:,[2,1]]\n",
    "evec2"
   ]
  },
  {
   "cell_type": "code",
   "execution_count": 13,
   "id": "fc85b56b",
   "metadata": {},
   "outputs": [
    {
     "data": {
      "text/plain": [
       "array([[6.67578072, 0.        , 0.        ],\n",
       "       [0.        , 3.23016282, 0.        ]])"
      ]
     },
     "execution_count": 13,
     "metadata": {},
     "output_type": "execute_result"
    }
   ],
   "source": [
    "sigma = np.array([[eval1[0]**0.5,0,0],[0,eval1[1]**0.5,0]])\n",
    "sigma"
   ]
  },
  {
   "cell_type": "code",
   "execution_count": 14,
   "id": "8fcb06c3",
   "metadata": {},
   "outputs": [
    {
     "data": {
      "text/plain": [
       "[[6.67578071583212, 0, 0], [0, 3.2301628185161175, 0]]"
      ]
     },
     "execution_count": 14,
     "metadata": {},
     "output_type": "execute_result"
    }
   ],
   "source": [
    "sigma = [[eval1[0]**0.5,0,0],[0,eval1[1]**0.5,0]]\n",
    "sigma"
   ]
  },
  {
   "cell_type": "code",
   "execution_count": 15,
   "id": "c0250e71",
   "metadata": {},
   "outputs": [
    {
     "data": {
      "text/plain": [
       "array([[2., 3., 4.],\n",
       "       [1., 5., 0.]])"
      ]
     },
     "execution_count": 15,
     "metadata": {},
     "output_type": "execute_result"
    }
   ],
   "source": [
    "np.round(evec1 @ sigma @ evec2.T,decimals = 3)"
   ]
  },
  {
   "cell_type": "markdown",
   "id": "70077eee",
   "metadata": {},
   "source": [
    "Verified, now we verify for the decomposition in several terms"
   ]
  },
  {
   "cell_type": "code",
   "execution_count": 16,
   "id": "bbb228df",
   "metadata": {},
   "outputs": [
    {
     "data": {
      "text/plain": [
       "array([0.73752756, 0.67531703])"
      ]
     },
     "execution_count": 16,
     "metadata": {},
     "output_type": "execute_result"
    }
   ],
   "source": [
    "vec11=np.array(evec1[:,0])\n",
    "vec11"
   ]
  },
  {
   "cell_type": "code",
   "execution_count": 17,
   "id": "5cc5428c",
   "metadata": {},
   "outputs": [
    {
     "data": {
      "text/plain": [
       "array([0.32211546, 0.83723059, 0.4419124 ])"
      ]
     },
     "execution_count": 17,
     "metadata": {},
     "output_type": "execute_result"
    }
   ],
   "source": [
    "vec12=np.array(evec2[:,0])\n",
    "vec12"
   ]
  },
  {
   "cell_type": "code",
   "execution_count": 18,
   "id": "5a7d97ad",
   "metadata": {},
   "outputs": [
    {
     "data": {
      "text/plain": [
       "array([[1.58595874, 4.12216534, 2.17578762],\n",
       "       [1.45218294, 3.77446025, 1.9922597 ]])"
      ]
     },
     "execution_count": 18,
     "metadata": {},
     "output_type": "execute_result"
    }
   ],
   "source": [
    "matr1 = (eval1[0]**0.5)*np.dot(vec11[:,None],vec12[None,:])\n",
    "matr1"
   ]
  },
  {
   "cell_type": "code",
   "execution_count": 19,
   "id": "98fa7751",
   "metadata": {},
   "outputs": [
    {
     "data": {
      "text/plain": [
       "array([-0.67531703,  0.73752756])"
      ]
     },
     "execution_count": 19,
     "metadata": {},
     "output_type": "execute_result"
    }
   ],
   "source": [
    "vec21=np.array(evec1[:,1])\n",
    "vec21"
   ]
  },
  {
   "cell_type": "code",
   "execution_count": 20,
   "id": "8bf0151f",
   "metadata": {},
   "outputs": [
    {
     "data": {
      "text/plain": [
       "array([-0.18980669,  0.51442816, -0.83626377])"
      ]
     },
     "execution_count": 20,
     "metadata": {},
     "output_type": "execute_result"
    }
   ],
   "source": [
    "vec22=np.array(evec2[:,1])\n",
    "vec22"
   ]
  },
  {
   "cell_type": "code",
   "execution_count": 21,
   "id": "12861a1f",
   "metadata": {},
   "outputs": [
    {
     "data": {
      "text/plain": [
       "array([[ 0.41404126, -1.12216534,  1.82421238],\n",
       "       [-0.45218294,  1.22553975, -1.9922597 ]])"
      ]
     },
     "execution_count": 21,
     "metadata": {},
     "output_type": "execute_result"
    }
   ],
   "source": [
    "matr2 = (eval1[1]**0.5)*np.dot(vec21[:,None],vec22[None,:])\n",
    "matr2"
   ]
  },
  {
   "cell_type": "code",
   "execution_count": 22,
   "id": "b0dd597d",
   "metadata": {},
   "outputs": [
    {
     "data": {
      "text/plain": [
       "array([[2., 3., 4.],\n",
       "       [1., 5., 0.]])"
      ]
     },
     "execution_count": 22,
     "metadata": {},
     "output_type": "execute_result"
    }
   ],
   "source": [
    "np.round(matr1+matr2,decimals=3)"
   ]
  },
  {
   "cell_type": "markdown",
   "id": "67bd5e5e",
   "metadata": {},
   "source": [
    "Using SVD from numpy"
   ]
  },
  {
   "cell_type": "code",
   "execution_count": 23,
   "id": "e8264a72",
   "metadata": {},
   "outputs": [],
   "source": [
    "U, s, V = np.linalg.svd(B) "
   ]
  },
  {
   "cell_type": "code",
   "execution_count": 24,
   "id": "aa5d530f",
   "metadata": {},
   "outputs": [
    {
     "data": {
      "text/plain": [
       "array([[ 2.,  3.,  4.],\n",
       "       [ 1.,  5., -0.]])"
      ]
     },
     "execution_count": 24,
     "metadata": {},
     "output_type": "execute_result"
    }
   ],
   "source": [
    "S=[[s[0],0,0],[0,s[1],0]]\n",
    "np.round(U@ S @V,decimals=3)"
   ]
  },
  {
   "cell_type": "code",
   "execution_count": null,
   "id": "154bdbc1",
   "metadata": {},
   "outputs": [],
   "source": []
  },
  {
   "cell_type": "code",
   "execution_count": null,
   "id": "dbd5b775",
   "metadata": {},
   "outputs": [],
   "source": []
  },
  {
   "cell_type": "code",
   "execution_count": 13,
   "id": "3d5078fe",
   "metadata": {},
   "outputs": [
    {
     "data": {
      "text/plain": [
       "0.7144442013411114"
      ]
     },
     "execution_count": 13,
     "metadata": {},
     "output_type": "execute_result"
    }
   ],
   "source": [
    "0.912**12 + 12*0.088*(0.912**11)"
   ]
  },
  {
   "cell_type": "code",
   "execution_count": null,
   "id": "e8fc31b3",
   "metadata": {},
   "outputs": [],
   "source": []
  },
  {
   "cell_type": "code",
   "execution_count": null,
   "id": "4e1ac6ba",
   "metadata": {},
   "outputs": [],
   "source": []
  }
 ],
 "metadata": {
  "kernelspec": {
   "display_name": "Python 3 (ipykernel)",
   "language": "python",
   "name": "python3"
  },
  "language_info": {
   "codemirror_mode": {
    "name": "ipython",
    "version": 3
   },
   "file_extension": ".py",
   "mimetype": "text/x-python",
   "name": "python",
   "nbconvert_exporter": "python",
   "pygments_lexer": "ipython3",
   "version": "3.11.7"
  }
 },
 "nbformat": 4,
 "nbformat_minor": 5
}
